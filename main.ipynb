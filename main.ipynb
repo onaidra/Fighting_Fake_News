{
 "cells": [
  {
   "cell_type": "code",
   "execution_count": 1,
   "id": "flush-nomination",
   "metadata": {},
   "outputs": [
    {
     "ename": "ModuleNotFoundError",
     "evalue": "No module named 'tf_slim'",
     "output_type": "error",
     "traceback": [
      "\u001b[1;31m---------------------------------------------------------------------------\u001b[0m",
      "\u001b[1;31mModuleNotFoundError\u001b[0m                       Traceback (most recent call last)",
      "\u001b[1;32m<ipython-input-1-8526fca52e19>\u001b[0m in \u001b[0;36m<module>\u001b[1;34m\u001b[0m\n\u001b[0;32m      1\u001b[0m \u001b[1;32mfrom\u001b[0m \u001b[0mmodels\u001b[0m \u001b[1;32mimport\u001b[0m \u001b[0mexif\u001b[0m\u001b[1;33m\u001b[0m\u001b[1;33m\u001b[0m\u001b[0m\n\u001b[0;32m      2\u001b[0m \u001b[1;32mimport\u001b[0m \u001b[0mrandom\u001b[0m\u001b[1;33m\u001b[0m\u001b[1;33m\u001b[0m\u001b[0m\n\u001b[1;32m----> 3\u001b[1;33m \u001b[1;32mfrom\u001b[0m \u001b[0mmodels\u001b[0m\u001b[1;33m.\u001b[0m\u001b[0mexif\u001b[0m \u001b[1;32mimport\u001b[0m \u001b[0mexif_solver\u001b[0m\u001b[1;33m,\u001b[0m\u001b[0mexif_net\u001b[0m\u001b[1;33m\u001b[0m\u001b[1;33m\u001b[0m\u001b[0m\n\u001b[0m\u001b[0;32m      4\u001b[0m \u001b[1;32mfrom\u001b[0m \u001b[0mload_models\u001b[0m \u001b[1;32mimport\u001b[0m \u001b[0minitialize_exif\u001b[0m\u001b[1;33m\u001b[0m\u001b[1;33m\u001b[0m\u001b[0m\n\u001b[0;32m      5\u001b[0m \u001b[1;32mfrom\u001b[0m \u001b[0mextract_exif\u001b[0m \u001b[1;32mimport\u001b[0m \u001b[0mextract_exif\u001b[0m\u001b[1;33m,\u001b[0m \u001b[0mrandom_list\u001b[0m\u001b[1;33m,\u001b[0m\u001b[0mgenerate_label\u001b[0m\u001b[1;33m,\u001b[0m\u001b[0mcropping_list\u001b[0m\u001b[1;33m,\u001b[0m\u001b[0mget_np_arrays\u001b[0m\u001b[1;33m\u001b[0m\u001b[1;33m\u001b[0m\u001b[0m\n",
      "\u001b[1;32m~\\Documents\\MAGISTRALE\\ANNO 1\\SECONDO SEMESTRE\\VISION AND PERCEPTION\\Fighting_Fake_News\\models\\exif\\exif_solver.py\u001b[0m in \u001b[0;36m<module>\u001b[1;34m\u001b[0m\n\u001b[0;32m      3\u001b[0m \u001b[1;32mimport\u001b[0m \u001b[0minit_paths\u001b[0m\u001b[1;33m\u001b[0m\u001b[1;33m\u001b[0m\u001b[0m\n\u001b[0;32m      4\u001b[0m \u001b[1;33m\u001b[0m\u001b[0m\n\u001b[1;32m----> 5\u001b[1;33m \u001b[1;32mimport\u001b[0m \u001b[0mtf_slim\u001b[0m \u001b[1;32mas\u001b[0m \u001b[0mslim\u001b[0m\u001b[1;33m\u001b[0m\u001b[1;33m\u001b[0m\u001b[0m\n\u001b[0m\u001b[0;32m      6\u001b[0m \u001b[1;32mfrom\u001b[0m \u001b[0mutils\u001b[0m \u001b[1;32mimport\u001b[0m \u001b[0mops\u001b[0m\u001b[1;33m,\u001b[0m \u001b[0mio\u001b[0m\u001b[1;33m\u001b[0m\u001b[1;33m\u001b[0m\u001b[0m\n\u001b[0;32m      7\u001b[0m \u001b[1;32mimport\u001b[0m \u001b[0mtraceback\u001b[0m\u001b[1;33m\u001b[0m\u001b[1;33m\u001b[0m\u001b[0m\n",
      "\u001b[1;31mModuleNotFoundError\u001b[0m: No module named 'tf_slim'"
     ]
    }
   ],
   "source": [
    "from models import exif\n",
    "import random\n",
    "from models.exif import exif_solver,exif_net\n",
    "from load_models import initialize_exif\n",
    "from extract_exif import extract_exif, random_list,generate_label,cropping_list,get_np_arrays\n",
    "from lib.utils import benchmark_utils, util,io\n",
    "from demo import Demo\n",
    "import tensorflow as tf\n",
    "import numpy as np\n",
    "import pickle\n",
    "from PIL import Image\n",
    "import cv2\n",
    "\n",
    "#extract exif data\n",
    "#dict,image_list,dict_keys = extract_exif()\n",
    "\n",
    "#generate second random list\n",
    "#second_image_list = random_list(image_list)\n",
    "\n",
    "#generate labels for each pair of images\n",
    "\n",
    "#exif_lbl = generate_label(dict_keys,image_list,image_list)\n",
    "\"\"\"\n",
    "with open(\"exif_lbl.txt\", \"wb\") as fp:   #Picklingpickle.dump(l, fp)\n",
    "\tpickle.dump(exif_lbl,fp)\n",
    "fp.close()\n",
    "#######################################################################################à\n",
    "\"\"\"\n",
    "with open(\"exif_lbl.txt\", \"rb\") as fp:   #Picklingpickle.dump(l, fp)\n",
    "\texif_lbl = pickle.load(fp)\n",
    "fp.close()\n",
    "\n",
    "#######################################################################################à\n",
    "#crop images to 128x128\n",
    "#######################################################################################à\n",
    "list1,list2 = get_np_arrays('cropped_arrays.npy')\n",
    "#######################################################################################à\n",
    "#list1,list2 = cropping_list(image_list,second_image_list)\n",
    "\n",
    "cls_lbl = np.ones((1,1))\n",
    "cls_lbl[0][0] = len(exif_lbl)\n",
    "\n",
    "## sulla read di cls metti ad int il valore cls_lbl = int(cls_lbl)\n",
    "#start initialization\n",
    "\n",
    "solver = initialize_exif()\n",
    "solver.sess.run(tf.compat.v1.global_variables_initializer())\n",
    "if solver.net.use_tf_threading:\n",
    "    solver.coord = tf.train.Coordinator()\n",
    "    solver.net.train_runner.start_p_threads(solver.sess)\n",
    "    tf.train.start_queue_runners(sess=solver.sess, coord=solver.coord)\n",
    "\n",
    "\n",
    "im1_merge = {'im_a':list1,'im_b':list2,'exif_lbl': exif_lbl,'cls_lbl': cls_lbl}\n",
    "exif_solver.ExifSolver.setup_data(solver,list1,im1_merge)\n",
    "exif_solver.ExifSolver.train(solver)\n",
    "\n",
    "\"\"\"\n",
    "im = np.zeros((256, 256, 3))\n",
    "\n",
    "bu = benchmark_utils.EfficientBenchmark(solver, nc, params, im, auto_close_sess=False, \n",
    "                                                     mirror_pred=False, dense_compute=False, stride=None, n_anchors=10,\n",
    "                                                    patch_size=128, num_per_dim=30)\n",
    "\"\"\""
   ]
  },
  {
   "cell_type": "code",
   "execution_count": null,
   "id": "advised-atlas",
   "metadata": {},
   "outputs": [],
   "source": []
  }
 ],
 "metadata": {
  "kernelspec": {
   "display_name": "Python 3",
   "language": "python",
   "name": "python3"
  },
  "language_info": {
   "codemirror_mode": {
    "name": "ipython",
    "version": 3
   },
   "file_extension": ".py",
   "mimetype": "text/x-python",
   "name": "python",
   "nbconvert_exporter": "python",
   "pygments_lexer": "ipython3",
   "version": "3.8.8"
  }
 },
 "nbformat": 4,
 "nbformat_minor": 5
}
